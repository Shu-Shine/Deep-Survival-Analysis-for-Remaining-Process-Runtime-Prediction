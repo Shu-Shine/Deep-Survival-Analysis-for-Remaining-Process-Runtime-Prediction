{
 "cells": [
  {
   "cell_type": "code",
   "execution_count": null,
   "id": "72f34c0b",
   "metadata": {},
   "outputs": [],
   "source": [
    "# import pip\n",
    "# def install(package):\n",
    "#     pip.main([\"install\",package])\n",
    "# install(\"pm4py\")\n",
    "# from urllib.request import urlretrieve\n",
    "import os\n",
    "import pm4py"
   ]
  },
  {
   "cell_type": "code",
   "execution_count": null,
   "id": "d3fe2f29",
   "metadata": {},
   "outputs": [],
   "source": [
    "# convert XES format to CSV format\n",
    "# urlretrieve('https://data.4tu.nl/file/34c3f44b-3101-4ea9-8281-e38905c68b8d/f3aec4f7-d52c-4217-82f4-57d719a8298c', 'BPI Challenge 2017.xes.gz')\n",
    "log = pm4py.read_xes('BPI Challenge 2017.xes.gz') \n",
    "pd = pm4py.convert_to_dataframe(log)\n",
    "pd.to_csv('2017.csv', index=False)"
   ]
  },
  {
   "cell_type": "code",
   "execution_count": null,
   "id": "ec3f3bdf",
   "metadata": {},
   "outputs": [],
   "source": []
  }
 ],
 "metadata": {
  "kernelspec": {
   "display_name": "Python 3",
   "language": "python",
   "name": "python3"
  },
  "language_info": {
   "codemirror_mode": {
    "name": "ipython",
    "version": 3
   },
   "file_extension": ".py",
   "mimetype": "text/x-python",
   "name": "python",
   "nbconvert_exporter": "python",
   "pygments_lexer": "ipython3",
   "version": "3.8.8"
  }
 },
 "nbformat": 4,
 "nbformat_minor": 5
}
